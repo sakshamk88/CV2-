{
 "cells": [
  {
   "cell_type": "markdown",
   "metadata": {},
   "source": [
    "## Frame manipulations CV2"
   ]
  },
  {
   "cell_type": "code",
   "execution_count": 23,
   "metadata": {},
   "outputs": [],
   "source": [
    "#task 1\n",
    "#showing multiple sterams in single window\n",
    "import  cv2\n",
    "import numpy as np\n",
    "\n",
    "cap=cv2.VideoCapture(0) #accessing the camera\n",
    "while cap.isOpened() :  #  return true or false  by checking camera status\n",
    "    \n",
    "    status,frame=cap.read()  # taking frames or pictures\n",
    "    \n",
    "    #  now converting  to gray scale\n",
    "    gray_frame=cv2.cvtColor(frame,cv2.COLOR_BGR2GRAY)\n",
    "    #hsv_frame=cv2.cvtColor(frame,cv2.COLOR_BGR2HSV)\n",
    "    \n",
    "    # resizing the frames:\n",
    "    vid1 = cv2.resize(gray_frame, (240, 180))\n",
    "    vid2 = cv2.resize(frame,(240,180))\n",
    "    \n",
    "    #adding 3rd axis to the gray scaled image to concatenate it with the colored one\n",
    "    vid3 = np.broadcast_to(vid1[:,:,np.newaxis],(180,240,3))\n",
    "    \n",
    "    #  now display frame\n",
    "    newframe1 = np.concatenate((vid3,vid2),axis=0) #concatenating vertically\n",
    "    newframe2 = np.concatenate((vid2,vid3),axis=0) #concatenating vertically\n",
    "    newframe3 = np.concatenate((newframe1,newframe2),axis=1) #concatenating horizontally\n",
    "    cv2.imshow('live',newframe3)\n",
    "    #cv2.imshow('live1',vid2)\n",
    "    \n",
    "    if  cv2.waitKey(10) & 0xff ==  ord('q'):\n",
    "        #  here  ord is for converting  keys to ascii\n",
    "        break\n",
    "    \n",
    "#  destroying all windows having frames\n",
    "cv2.destroyAllWindows()\n",
    "#  stoping camera \n",
    "cap.release()  #  now you can use the same camera with anther app "
   ]
  },
  {
   "cell_type": "code",
   "execution_count": 48,
   "metadata": {},
   "outputs": [],
   "source": [
    " #task 2\n",
    "#showing 2 streams in single window half gray half color\n",
    "import  cv2\n",
    "import numpy as np\n",
    "\n",
    "cap=cv2.VideoCapture(0) #accessing the camera\n",
    "while cap.isOpened() :  #  return true or false  by checking camera status\n",
    "    \n",
    "    status,frame=cap.read()  # taking frames or pictures\n",
    "    \n",
    "    #  now converting  to gray scale\n",
    "    gray_frame=cv2.cvtColor(frame,cv2.COLOR_BGR2GRAY)\n",
    "    #hsv_frame=cv2.cvtColor(frame,cv2.COLOR_BGR2HSV)\n",
    "    \n",
    "    # resizing the frames\n",
    "    vid1 = cv2.resize(gray_frame, (700,440))\n",
    "    vid2 = cv2.resize(frame,(700,440))\n",
    "    \n",
    "    #adding 3rd axis to the gray scaled image to concatenate it with the colored one\n",
    "    vid1 = np.broadcast_to(vid1[:,:,np.newaxis],(440,700,3))\n",
    "    \n",
    "    #cropping stream vertically\n",
    "    vid1 = vid1[:220,:] \n",
    "    vid2 = vid2[220:441,:]\n",
    "    \n",
    "    #  now display frame\n",
    "    newframe3 = np.concatenate((vid1,vid2),axis=0) #concatenating horizontally\n",
    "    cv2.imshow('live',newframe3)\n",
    "    #cv2.imshow('live1',vid2)\n",
    "    \n",
    "    if  cv2.waitKey(10) & 0xff ==  ord('q'):\n",
    "        #  here  ord is for converting  keys to ascii\n",
    "        break\n",
    "    \n",
    "#  destroying all windows having frames\n",
    "cv2.destroyAllWindows()\n",
    "#  stoping camera \n",
    "cap.release()  #  now you can use the same camera with anther app"
   ]
  },
  {
   "cell_type": "code",
   "execution_count": 69,
   "metadata": {},
   "outputs": [],
   "source": []
  },
  {
   "cell_type": "code",
   "execution_count": 68,
   "metadata": {},
   "outputs": [],
   "source": []
  },
  {
   "cell_type": "code",
   "execution_count": 102,
   "metadata": {},
   "outputs": [],
   "source": []
  },
  {
   "cell_type": "code",
   "execution_count": 23,
   "metadata": {},
   "outputs": [],
   "source": []
  },
  {
   "cell_type": "code",
   "execution_count": 22,
   "metadata": {},
   "outputs": [],
   "source": []
  },
  {
   "cell_type": "code",
   "execution_count": null,
   "metadata": {},
   "outputs": [],
   "source": []
  }
 ],
 "metadata": {
  "kernelspec": {
   "display_name": "Python 3",
   "language": "python",
   "name": "python3"
  },
  "language_info": {
   "codemirror_mode": {
    "name": "ipython",
    "version": 3
   },
   "file_extension": ".py",
   "mimetype": "text/x-python",
   "name": "python",
   "nbconvert_exporter": "python",
   "pygments_lexer": "ipython3",
   "version": "3.7.3"
  }
 },
 "nbformat": 4,
 "nbformat_minor": 2
}
