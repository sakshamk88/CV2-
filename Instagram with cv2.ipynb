{
 "cells": [
  {
   "cell_type": "markdown",
   "metadata": {},
   "source": [
    "## Instagram Like filters"
   ]
  },
  {
   "cell_type": "code",
   "execution_count": 1,
   "metadata": {},
   "outputs": [],
   "source": [
    "#filtering stream\n",
    "import cv2\n",
    "\n",
    "cap=cv2.VideoCapture(0) #accessing the camera\n",
    "while cap.isOpened() :  #  return true or false  by checking camera status\n",
    "    \n",
    "    status,frame=cap.read()  # taking frames or pictures\n",
    "    frame = cv2.cvtColor(frame,cv2.COLOR_BGR2BGRA)\n",
    "    vid1 = cv2.bitwise_not(frame,1)\n",
    "    cv2.imshow('Negative',vid1)\n",
    "    \n",
    "    if  cv2.waitKey(10) & 0xff ==  ord('q'):\n",
    "        #  here  ord is for converting  keys to ascii\n",
    "        break\n",
    "    \n",
    "#  destroying all windows having frames\n",
    "cv2.destroyAllWindows()\n",
    "#  stoping camera \n",
    "cap.release()  #  now you can use the same camera with anther app"
   ]
  },
  {
   "cell_type": "code",
   "execution_count": null,
   "metadata": {},
   "outputs": [],
   "source": [
    "#Instagram like filters\n",
    "#filtering stream\n",
    "import cv2\n",
    "\n",
    "cap=cv2.VideoCapture(0) #accessing the camera\n",
    "while cap.isOpened() :  #  return true or false  by checking camera status\n",
    "    \n",
    "    status,frame=cap.read()  # taking frames or pictures\n",
    "    frame = cv2.cvtColor(frame,cv2.COLOR_BGR2BGRA)\n",
    "    h,w,c = frame.shape\n",
    "    b = 12\n",
    "    g = 100\n",
    "    r = 112\n",
    "    sep = (b,g,r,1)\n",
    "    overlay = np.full((h,w,4),(b,g,r,1),dtype='uint8')\n",
    "    cv2.addWeighted(overlay, 0.8,frame,1.0,0,frame)\n",
    "    frame = cv2.cvtColor(frame,cv2.COLOR_BGRA2BGR)\n",
    "    vid1 = cv2.bitwise_not(frame,1)\n",
    "    cv2.imshow('Sepia',frame)\n",
    "    \n",
    "    if  cv2.waitKey(10) & 0xff ==  ord('q'):\n",
    "        #  here  ord is for converting  keys to ascii\n",
    "        break\n",
    "    \n",
    "#  destroying all windows having frames\n",
    "cv2.destroyAllWindows()\n",
    "#  stoping camera \n",
    "cap.release()  #  now you can use the same camera with anther app"
   ]
  },
  {
   "cell_type": "code",
   "execution_count": null,
   "metadata": {},
   "outputs": [],
   "source": [
    "#blurring stream\n",
    "import cv2\n",
    "\n",
    "def alpha_blend(f1,f2,mask):\n",
    "    alpha = mask/255.0\n",
    "    blended = cv2.convertScaleAbs(f1*(1-alpha) + f2*alpha)\n",
    "    return blended\n",
    "cap=cv2.VideoCapture(0) #accessing the camera\n",
    "while cap.isOpened() :  #  return true or false  by checking camera status\n",
    "    \n",
    "    status,frame=cap.read()  # taking frames or pictures\n",
    "    frame = cv2.cvtColor(frame,cv2.COLOR_BGR2BGRA)\n",
    "    h,w,c = frame.shape\n",
    "    \n",
    "    x = int(w/2)\n",
    "    y = int(h/2)\n",
    "    radius = int(y/2)\n",
    "    center = (x,y)\n",
    "    mask = np.zeros((h,w,4),dtype = 'uint8')\n",
    "    cv2.circle(mask, center, radius, (255,255,255), -1, cv2.LINE_AA)\n",
    "    mask = cv2.GaussianBlur(mask,(21,21), 11)\n",
    "    blured = cv2.GaussianBlur(frame,(21,21), 11)\n",
    "    blended = alpha_blend(frame, blured, 255-mask)\n",
    "    frame = cv2.cvtColor(blended,cv2.COLOR_BGRA2BGR)\n",
    "    \n",
    "    #vid1 = cv2.bitwise_not(frame,1)\n",
    "    cv2.imshow('Blurred',frame)\n",
    "    \n",
    "    if  cv2.waitKey(10) & 0xff ==  ord('q'):\n",
    "        #  here  ord is for converting  keys to ascii\n",
    "        break\n",
    "    \n",
    "#  destroying all windows having frames\n",
    "cv2.destroyAllWindows()\n",
    "#  stoping camera \n",
    "cap.release()  #  now you can use the same camera with anther app"
   ]
  },
  {
   "cell_type": "code",
   "execution_count": null,
   "metadata": {},
   "outputs": [],
   "source": []
  }
 ],
 "metadata": {
  "kernelspec": {
   "display_name": "Python 3",
   "language": "python",
   "name": "python3"
  },
  "language_info": {
   "codemirror_mode": {
    "name": "ipython",
    "version": 3
   },
   "file_extension": ".py",
   "mimetype": "text/x-python",
   "name": "python",
   "nbconvert_exporter": "python",
   "pygments_lexer": "ipython3",
   "version": "3.7.3"
  }
 },
 "nbformat": 4,
 "nbformat_minor": 2
}
